{
 "cells": [
  {
   "cell_type": "code",
   "execution_count": 29,
   "metadata": {},
   "outputs": [
    {
     "name": "stdout",
     "output_type": "stream",
     "text": [
      "class of profit is: <class 'function'>\n",
      "maximum profit: 36163\n",
      "x is not changed: [414.1, 404.2, 408.3, 413.2, 395.0]\n",
      "cost(x= [414.1, 404.2, 408.3, 413.2, 395.0] )= [12523.0, 10205.0, 8266.0, 6298.0, 4050.0]\n",
      "sales(x= [414.1, 404.2, 408.3, 413.2, 395.0] )= [26, 23, 19, 15, 12]\n",
      "sales(x= [414, 404] )= [26, 23]\n",
      "sales(x, A=1000)= [26, 23]\n",
      "fact( 3 )= 6\n"
     ]
    }
   ],
   "source": [
    "import math\n",
    "\n",
    "def profit(x):\n",
    "    x = [round(val) for val in x]  # convert x into integer\n",
    "    s = sales(x)  # get the expected sales\n",
    "    c = cost(s)  # get the expected cost\n",
    "    profit_val = sum([val[0] * val[1] - val[2] for val in zip(s, x, c)])  # compute the profit\n",
    "    return profit_val\n",
    "\n",
    "def cost(units, A=100, cpu=lambda units: [35 - 5 * i for i in range(1, len(units) + 1)]):\n",
    "    return [A + cpu_val * unit for cpu_val, unit in zip(cpu(units), units)]\n",
    "\n",
    "def sales(x, A=1000, B=200, C=141, m=None):\n",
    "    if m is None:\n",
    "        m = [2 - 0.25 * i for i in range(1, len(x) + 1)]\n",
    "    return [round(marketing * (A / math.log(price + B) - C)) for price, marketing in zip(x, m)]\n",
    "\n",
    "def fact(x):\n",
    "    if x == 0:\n",
    "        return 1\n",
    "    else:\n",
    "        return x * fact(x - 1)\n",
    "#===========================================================================================\n",
    "\n",
    "# Test the functions:\n",
    "x = [414.1, 404.2, 408.3, 413.2, 395.0]\n",
    "print(\"class of profit is:\", type(profit))  # function\n",
    "\n",
    "y = profit(x)\n",
    "print(\"maximum profit:\", y)\n",
    "\n",
    "print(\"x is not changed:\", x)\n",
    "\n",
    "print(\"cost(x=\", x, \")=\", cost(x))\n",
    "print(\"sales(x=\", x, \")=\", sales([round(val) for val in x]))\n",
    "x = [414, 404]  # sales for 2 bags\n",
    "print(\"sales(x=\", x, \")=\", sales(x))\n",
    "print(\"sales(x, A=1000)=\", sales(x, 1000))\n",
    "x = 3\n",
    "print(\"fact(\", x, \")=\", fact(x))"
   ]
  },
  {
   "cell_type": "code",
   "execution_count": 20,
   "metadata": {},
   "outputs": [
    {
     "name": "stdout",
     "output_type": "stream",
     "text": [
      "fsearch best s: [1 1 1 1 1 1 1 1] f: 8\n",
      "dfsearch best s: [1, 1, 1, 1, 1, 1, 1, 1] f: 8\n",
      "fsearch best s: [1 0 0 0 0 0 0 0] f: 1.0\n",
      "dfsearch best s: [1, 0, 0, 0, 0, 0, 0, 0] f: 1.0\n"
     ]
    }
   ],
   "source": [
    "import numpy as np\n",
    "\n",
    "def fsearch(search, fn, type=\"min\", *args):\n",
    "    x = np.apply_along_axis(fn, 1, search, *args)\n",
    "    ib = np.argmin(x) if type == \"min\" else np.argmax(x)\n",
    "    return {\"index\": ib, \"sol\": search[ib], \"eval\": x[ib]}\n",
    "\n",
    "def dfsearch(l=1, b=1, domain=None, fn=None, type=\"min\", par=None, bcur=None, Dim=None, *args):\n",
    "    D = len(domain) if par is None else len(par)\n",
    "\n",
    "    if par is None:\n",
    "        par = np.array([None] * D)\n",
    "\n",
    "    if bcur is None:\n",
    "        bcur = {\"sol\": None, \"eval\": float(\"inf\") if type == \"min\" else float(\"-inf\")}\n",
    "\n",
    "    if l - 1 == D:\n",
    "        f = fn(par, Dim, *args) if Dim is not None else fn(par, *args)\n",
    "        fb = bcur[\"eval\"]\n",
    "        ib = np.argmin([fb, f]) if type == \"min\" else np.argmax([fb, f])\n",
    "        if ib == 0:\n",
    "            return bcur\n",
    "        else:\n",
    "            return {\"sol\": par.tolist(), \"eval\": f}\n",
    "    else:\n",
    "        for j in range(len(domain[l - 1])):\n",
    "            par[l - 1] = domain[l - 1][j]\n",
    "            bcur = dfsearch(l + 1, j + 1, domain, fn, type, par.copy(), bcur, Dim, *args)\n",
    "        return bcur\n",
    "\n",
    "def binint(x, D):\n",
    "    x = list(reversed(format(x, 'b').zfill(D)))\n",
    "    return [int(bit) for bit in x]\n",
    "\n",
    "def intbin(x):\n",
    "    return sum([2**i for i, bit in enumerate(reversed(x)) if bit == 1])\n",
    "\n",
    "def sumbin(x):\n",
    "    return sum(x)\n",
    "\n",
    "def maxsin(x, Dim):\n",
    "    return np.sin(np.pi * intbin(x) / (2 ** Dim))\n",
    "\n",
    "D = 8\n",
    "x = np.arange(2 ** D)\n",
    "search = np.array([binint(val, D) for val in x])\n",
    "domain = [[0, 1] for _ in range(D)]\n",
    "\n",
    "S1 = fsearch(search, sumbin, \"max\")\n",
    "print(\"fsearch best s:\", S1[\"sol\"], \"f:\", S1[\"eval\"])\n",
    "\n",
    "S2 = dfsearch(domain=domain, fn=sumbin, type=\"max\")\n",
    "print(\"dfsearch best s:\", S2[\"sol\"], \"f:\", S2[\"eval\"])\n",
    "\n",
    "Dim = search.shape[1]\n",
    "S3 = fsearch(search, maxsin, \"max\", Dim)\n",
    "print(\"fsearch best s:\", S3[\"sol\"], \"f:\", S3[\"eval\"])\n",
    "\n",
    "S4 = dfsearch(domain=domain, fn=maxsin, type=\"max\", Dim=Dim)\n",
    "print(\"dfsearch best s:\", S4[\"sol\"], \"f:\", S4[\"eval\"])"
   ]
  },
  {
   "cell_type": "code",
   "execution_count": 30,
   "metadata": {},
   "outputs": [
    {
     "name": "stdout",
     "output_type": "stream",
     "text": [
      "optimum s: [404.0, 408.0, 413.0, 395.0, 399.0] f: 36622\n"
     ]
    }
   ],
   "source": [
    "def ibag(D):\n",
    "    x = np.arange(1, 1001)  # price for each bag type\n",
    "    # set search space for one bag:\n",
    "    search = np.ones((1000, 5))\n",
    "    search[:, D - 1] = x\n",
    "    S1 = fsearch(search, profit, \"max\")\n",
    "    return S1['sol'][D - 1]  # best price\n",
    "\n",
    "# Compute the best price for all bag types:\n",
    "S = [ibag(D) for D in range(1, 6)]\n",
    "# Show the optimum solution:\n",
    "print(\"optimum s:\", S, \"f:\", profit(S))"
   ]
  },
  {
   "cell_type": "code",
   "execution_count": null,
   "metadata": {},
   "outputs": [],
   "source": []
  }
 ],
 "metadata": {
  "kernelspec": {
   "display_name": "trading_hyun",
   "language": "python",
   "name": "python3"
  },
  "language_info": {
   "codemirror_mode": {
    "name": "ipython",
    "version": 3
   },
   "file_extension": ".py",
   "mimetype": "text/x-python",
   "name": "python",
   "nbconvert_exporter": "python",
   "pygments_lexer": "ipython3",
   "version": "3.7.13"
  }
 },
 "nbformat": 4,
 "nbformat_minor": 2
}
